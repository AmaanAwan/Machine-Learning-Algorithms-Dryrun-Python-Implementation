{
  "nbformat": 4,
  "nbformat_minor": 0,
  "metadata": {
    "colab": {
      "provenance": []
    },
    "kernelspec": {
      "name": "python3",
      "display_name": "Python 3"
    },
    "language_info": {
      "name": "python"
    }
  },
  "cells": [
    {
      "cell_type": "markdown",
      "source": [
        "# **Closed-Form Solution**"
      ],
      "metadata": {
        "id": "iwP_2E-ep2sj"
      }
    },
    {
      "cell_type": "code",
      "execution_count": null,
      "metadata": {
        "id": "m6AD7wrBnd3P"
      },
      "outputs": [],
      "source": [
        "import numpy as np\n",
        "import matplotlib.pyplot as plt\n",
        "import math"
      ]
    },
    {
      "cell_type": "code",
      "source": [
        "# As we know equation of line, y= c0 + c1.x\n",
        "# c0 is intercept and c1 is slope\n",
        "\n",
        "x = np.array([1,2,3,4,5])\n",
        "y= np.array([1,2,1.3,3.75,2.25])\n"
      ],
      "metadata": {
        "id": "Z0D29AbNoDyf"
      },
      "execution_count": null,
      "outputs": []
    },
    {
      "cell_type": "code",
      "source": [
        "\n",
        "n = len(x)\n",
        "\n",
        "x_mean = np.sum(x)/n #x_mean = np.mean(x)\n",
        "y_mean = np.sum(y)/n #y_mean = np.mean(y)"
      ],
      "metadata": {
        "id": "wTuhxj0QpzT2"
      },
      "execution_count": null,
      "outputs": []
    },
    {
      "cell_type": "code",
      "source": [
        "# c1= covariance(x,y)/variance(x)   OR   Sum of cross-deviations/Sum of squared deviations(SSD)\n",
        "\n",
        "xy_covar = (np.sum(y*x) - n*y_mean*x_mean)/(len(x)-1)\n",
        "x_var = (np.sum(x*x) - n*y_mean*x_mean)/(len(x)-1)\n",
        "\n",
        "# calculating regression coefficients\n",
        "c1 = xy_covar / x_var\n",
        "c0 = y_mean - c1 * x_mean\n",
        "\n",
        "print('y = ',c0,' + ',c1,'x')"
      ],
      "metadata": {
        "colab": {
          "base_uri": "https://localhost:8080/"
        },
        "id": "XmGoPDFIoQCC",
        "outputId": "9378770e-b08a-424a-b945-d92f4834061b"
      },
      "execution_count": null,
      "outputs": [
        {
          "output_type": "stream",
          "name": "stdout",
          "text": [
            "y =  1.5309543568464734  +  0.1763485477178422 x\n"
          ]
        }
      ]
    },
    {
      "cell_type": "code",
      "source": [
        "\n",
        "y_pred = c0 + c1 * 2\n",
        "print('Predicted value: ', y_pred)\n"
      ],
      "metadata": {
        "colab": {
          "base_uri": "https://localhost:8080/"
        },
        "id": "vt9WCpxtoW1p",
        "outputId": "6c9be52d-fa64-43b3-d18d-cb5c04f891bf"
      },
      "execution_count": null,
      "outputs": [
        {
          "output_type": "stream",
          "name": "stdout",
          "text": [
            "Predicted value:  1.883651452282158\n"
          ]
        }
      ]
    },
    {
      "cell_type": "code",
      "source": [
        "def plot_regression_line(x, y, b):\n",
        "# plotting the actual points\n",
        "  plt.scatter(x, y, color = \"m\",marker = \"o\", s = 30)\n",
        "\n",
        "# regression line\n",
        "  y_pred = b[0] + b[1]*x\n",
        "  plt.plot(x, y_pred, color = \"g\")\n",
        "\n",
        "  plt.xlabel('x')\n",
        "  plt.ylabel('y')\n"
      ],
      "metadata": {
        "id": "1WirhuJVvlfK"
      },
      "execution_count": null,
      "outputs": []
    },
    {
      "cell_type": "code",
      "source": [
        "c = [c0,c1]\n",
        "plot_regression_line(x, y, c)"
      ],
      "metadata": {
        "colab": {
          "base_uri": "https://localhost:8080/",
          "height": 449
        },
        "id": "IKssXKUYv7dO",
        "outputId": "d077acf7-38f1-4edd-cb2a-2124c72ca053"
      },
      "execution_count": null,
      "outputs": [
        {
          "output_type": "display_data",
          "data": {
            "text/plain": [
              "<Figure size 640x480 with 1 Axes>"
            ],
            "image/png": "[encoded data removed]"
          },
          "metadata": {}
        }
      ]
    },
    {
      "cell_type": "markdown",
      "source": [
        "# **Gradient Descent**"
      ],
      "metadata": {
        "id": "65gf5p2IpfKt"
      }
    },
    {
      "cell_type": "code",
      "source": [
        "# Calculates the mean squared error (cost) for the given theta.\n",
        "# theta = model parameters\n",
        "def cost_function(features, targets, theta):\n",
        "    m = len(features)\n",
        "    predicted_y = theta[0] + theta[1] * features\n",
        "    error = np.sum((predicted_y - targets) ** 2) / (2 * m)\n",
        "    return error\n"
      ],
      "metadata": {
        "id": "tg3A3MlioJEV"
      },
      "execution_count": null,
      "outputs": []
    },
    {
      "cell_type": "code",
      "source": [
        "# Calculates the gradient of the cost function with respect to theta.\n",
        "# Returns a array representing the gradient.\n",
        "def gradient_function(features, targets, theta):\n",
        "\n",
        "    m = len(features)\n",
        "    predicted_y = theta[0] + theta[1] * features\n",
        "    gradient = np.zeros(2)\n",
        "    gradient[0] = np.sum(predicted_y - targets) / m\n",
        "    gradient[1] = np.sum((predicted_y - targets) * features) / m\n",
        "    return gradient\n",
        "\n",
        "\n",
        "# Gradient descent for simple linear regression.\n",
        "# Returns a array containing the final theta values.\n",
        "def gradient_descent(features, targets, learning_rate, iterations):\n",
        "\n",
        "    features = np.array(features)\n",
        "    targets = np.array(targets)\n",
        "\n",
        "    # Initialize variables\n",
        "    theta = np.zeros(2)  # theta[0] is the intercept, theta[1] is the slope\n",
        "    m = len(features)  # Number of data points\n",
        "\n",
        "    # Gradient Descent Loop\n",
        "    for _ in range(iterations):\n",
        "        # Update theta values based on the gradient\n",
        "        theta = theta - learning_rate * gradient_function(features, targets, theta)\n",
        "\n",
        "    return theta\n"
      ],
      "metadata": {
        "id": "Mydv6mjKpmfx"
      },
      "execution_count": null,
      "outputs": []
    },
    {
      "cell_type": "code",
      "source": [
        "\n",
        "learning_rate = 0.01\n",
        "epochs = 1000\n",
        "result = gradient_descent(x, y, learning_rate, epochs)\n",
        "print(result)\n"
      ],
      "metadata": {
        "colab": {
          "base_uri": "https://localhost:8080/"
        },
        "id": "U-LTqDvopqgu",
        "outputId": "a41e741b-3ecc-447b-9426-5512e4a2c87b"
      },
      "execution_count": null,
      "outputs": [
        {
          "output_type": "stream",
          "name": "stdout",
          "text": [
            "[0.67086506 0.45661355]\n"
          ]
        }
      ]
    },
    {
      "cell_type": "code",
      "source": [
        "y_pred = result[0] + result[1] * 2\n",
        "print('Predicted value: ', y_pred)\n"
      ],
      "metadata": {
        "colab": {
          "base_uri": "https://localhost:8080/"
        },
        "id": "q9WgyC7wokd5",
        "outputId": "a0863671-5588-46b8-b8ff-8268a1ea5274"
      },
      "execution_count": null,
      "outputs": [
        {
          "output_type": "stream",
          "name": "stdout",
          "text": [
            "Predicted value:  1.584092155589627\n"
          ]
        }
      ]
    },
    {
      "cell_type": "code",
      "source": [
        "plot_regression_line(x, y, result)"
      ],
      "metadata": {
        "colab": {
          "base_uri": "https://localhost:8080/",
          "height": 449
        },
        "id": "QsTr4OYEpReX",
        "outputId": "d9ec1e26-65c4-4ae9-e421-2076acdeef6b"
      },
      "execution_count": null,
      "outputs": [
        {
          "output_type": "display_data",
          "data": {
            "text/plain": [
              "<Figure size 640x480 with 1 Axes>"
            ],
            "image/png": "[encoded data removed]"
          },
          "metadata": {}
        }
      ]
    }
  ]
}